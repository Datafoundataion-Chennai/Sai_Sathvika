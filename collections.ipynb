{
 "cells": [
  {
   "cell_type": "code",
   "execution_count": 7,
   "id": "9bda852d-c060-40fd-9192-1ddeabafaae6",
   "metadata": {},
   "outputs": [
    {
     "name": "stdout",
     "output_type": "stream",
     "text": [
      "Counter({'city': 2, 'punch': 2, 'innova': 1, 'i20': 1})\n",
      "[('city', 2), ('punch', 2)]\n",
      "<itertools.chain object at 0x000002103CEE7070>\n",
      "city\n",
      "city\n",
      "punch\n",
      "punch\n",
      "innova\n",
      "i20\n",
      "scorpio\n",
      "alto\n"
     ]
    }
   ],
   "source": [
    "from collections import Counter\n",
    "cars=[\"city\",\"punch\",\"innova\",\"i20\",\"city\",\"punch\"]\n",
    "c=Counter(cars)\n",
    "print(c)\n",
    "c.update([\"scorpio\",\"alto\"])\n",
    "print(c.most_common(2))\n",
    "print(c.elements())\n",
    "for i in c.elements():\n",
    "    print(i)"
   ]
  },
  {
   "cell_type": "code",
   "execution_count": 8,
   "id": "250e3c1a-0a80-4afd-9bcf-55211eee5c4d",
   "metadata": {},
   "outputs": [
    {
     "name": "stdout",
     "output_type": "stream",
     "text": [
      "defaultdict(<class 'int'>, {'a': 1})\n"
     ]
    }
   ],
   "source": [
    "from collections import defaultdict\n",
    "d=defaultdict(int)\n",
    "d[\"a\"]+=1\n",
    "print(d)"
   ]
  },
  {
   "cell_type": "code",
   "execution_count": 10,
   "id": "600268bc-124f-4bf1-ac10-6d91ff2a248e",
   "metadata": {},
   "outputs": [
    {
     "name": "stdout",
     "output_type": "stream",
     "text": [
      "OrderedDict({'a': 1, 'b': 2, 'c': 3, 'd': 4})\n",
      "OrderedDict({'b': 2, 'c': 3, 'd': 4})\n"
     ]
    }
   ],
   "source": [
    "from collections import OrderedDict\n",
    "od=OrderedDict()\n",
    "od['a']=1\n",
    "od['b']=2\n",
    "od['c']=3\n",
    "od['d']=4\n",
    "print(od)\n",
    "od.popitem(last=False)\n",
    "print(od)"
   ]
  },
  {
   "cell_type": "code",
   "execution_count": 12,
   "id": "8acb8358-0975-434b-852a-721f31eee441",
   "metadata": {},
   "outputs": [
    {
     "name": "stdout",
     "output_type": "stream",
     "text": [
      "deque([1, 2, 3, 4, 5, 6, 7])\n",
      "deque([1, 2, 3, 4, 5, 6, 7, 9])\n",
      "deque([9, 1, 2, 3, 4, 5, 6, 7])\n"
     ]
    }
   ],
   "source": [
    "from collections import deque\n",
    "dq=deque([1,2,3,4,5,6])\n",
    "dq.append(7)\n",
    "print(dq)\n",
    "dq.append(9)\n",
    "print(dq)\n",
    "dq.rotate()\n",
    "print(dq)"
   ]
  },
  {
   "cell_type": "code",
   "execution_count": 13,
   "id": "15eb713f-6993-4364-9a93-fe07473b384b",
   "metadata": {},
   "outputs": [
    {
     "name": "stdout",
     "output_type": "stream",
     "text": [
      "person(name='john', age=34)\n"
     ]
    }
   ],
   "source": [
    "from collections import namedtuple\n",
    "person=namedtuple(\"person\",[\"name\",\"age\"])\n",
    "p=person(name='john',age=34)\n",
    "print(p)"
   ]
  },
  {
   "cell_type": "code",
   "execution_count": 44,
   "id": "60df2e93-44f7-4ac7-b989-82a81004c3c4",
   "metadata": {},
   "outputs": [
    {
     "name": "stdout",
     "output_type": "stream",
     "text": [
      "OrderedDict({'bread': 8, 'milk': 3, 'cigarettes': 4})\n"
     ]
    }
   ],
   "source": [
    "from collections import Counter\n",
    "from collections import OrderedDict\n",
    "od=OrderedDict()\n",
    "requests = [\n",
    "    (\"bread\", 5),\n",
    "    (\"milk\", 2),\n",
    "    (\"bread\", 3),\n",
    "    (\"cigarettes\", 4),\n",
    "    (\"milk\", 1)\n",
    "]\n",
    "for k,v in requests:\n",
    "    if k in od:\n",
    "        od[k]+=v\n",
    "    else:\n",
    "        od[k]=v\n",
    "print(od)        \n",
    "\n",
    "\n",
    "    "
   ]
  },
  {
   "cell_type": "code",
   "execution_count": 66,
   "id": "65e37206-89a3-4d03-b73d-66ba208f5760",
   "metadata": {},
   "outputs": [
    {
     "name": "stdout",
     "output_type": "stream",
     "text": [
      "['attack', 'retreat', 'tanks', 'UNKNOWN']\n"
     ]
    }
   ],
   "source": [
    "from collections import Counter\n",
    "from collections import defaultdict\n",
    "codewords = [\"attack\", \"retreat\", \"sniper\", \"danger\", \"tanks\", \"enemy\"]\n",
    "intercepted = [\"ckatta\", \"ratreet\", \"ksnat\", \"shadow\"]\n",
    "final = defaultdict(lambda: \"UNKNOWN\")\n",
    "for word in codewords:\n",
    "    sorted_word = \"\".join(sorted(word))\n",
    "    final[sorted_word] = word\n",
    "decoded_messages = []\n",
    "for word in intercepted:\n",
    "    sorted_word = \"\".join(sorted(word))\n",
    "    decoded_messages.append(final[sorted_word])\n",
    "print(decoded_messages)"
   ]
  },
  {
   "cell_type": "code",
   "execution_count": 65,
   "id": "b1b54739-ac06-42d3-be9b-8fd75b8520f9",
   "metadata": {},
   "outputs": [
    {
     "name": "stdout",
     "output_type": "stream",
     "text": [
      "Current Crew Roster:\n",
      "1. Commander Vega (Role: Pilot, Experience: 9)\n",
      "2. Dr. Nova (Role: Scientist, Experience: 8)\n"
     ]
    }
   ],
   "source": [
    "from collections import namedtuple, deque\n",
    "from collections import deque\n",
    "CrewMember = namedtuple('CrewMember', ['name', 'role', 'experience'])\n",
    "crew_roster = deque()\n",
    "def add_crew(name, role, experience):\n",
    "    new_member = CrewMember(name, role, experience)\n",
    "    crew_roster.append(new_member)\n",
    "def remove_least_experienced():\n",
    "    if crew_roster:\n",
    "        sorted_crew = sorted(crew_roster, key=lambda member: member.experience)\n",
    "        least_experienced = sorted_crew[0]\n",
    "        crew_roster.remove(least_experienced)\n",
    "    else:\n",
    "        print(\"No crew members to remove.\")\n",
    "def display_roster():\n",
    "    if crew_roster:\n",
    "        print(\"Current Crew Roster:\")\n",
    "        for i, member in enumerate(crew_roster, 1):\n",
    "            print(f\"{i}. {member.name} (Role: {member.role}, Experience: {member.experience})\")\n",
    "    else:\n",
    "        print(\"No crew members in the roster.\")\n",
    "add_crew(\"Commander Vega\", \"Pilot\", 9)\n",
    "add_crew(\"Dr. Nova\", \"Scientist\", 8)\n",
    "add_crew(\"Lt. Orion\", \"Engineer\", 7)\n",
    "remove_least_experienced()\n",
    "display_roster()\n",
    "\n"
   ]
  },
  {
   "cell_type": "code",
   "execution_count": null,
   "id": "b1543a3b-848b-4e22-8fb9-041edb299684",
   "metadata": {},
   "outputs": [],
   "source": []
  }
 ],
 "metadata": {
  "kernelspec": {
   "display_name": "Python 3 (ipykernel)",
   "language": "python",
   "name": "python3"
  },
  "language_info": {
   "codemirror_mode": {
    "name": "ipython",
    "version": 3
   },
   "file_extension": ".py",
   "mimetype": "text/x-python",
   "name": "python",
   "nbconvert_exporter": "python",
   "pygments_lexer": "ipython3",
   "version": "3.12.7"
  }
 },
 "nbformat": 4,
 "nbformat_minor": 5
}
