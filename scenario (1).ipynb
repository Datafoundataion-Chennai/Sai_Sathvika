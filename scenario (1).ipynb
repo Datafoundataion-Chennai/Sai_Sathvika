{
 "cells": [
  {
   "cell_type": "code",
   "execution_count": 7,
   "id": "64827431-6c8e-461e-ba9d-217b2c3a28c2",
   "metadata": {},
   "outputs": [
    {
     "name": "stdout",
     "output_type": "stream",
     "text": [
      "120\n",
      "['Deducted ₹30.00', 'Recharged ₹50']\n",
      "Daily fare cap reached. Ride is free!\n",
      "106.0\n"
     ]
    }
   ],
   "source": [
    "from collections import UserDict\n",
    "\n",
    "class MetroCard(UserDict):\n",
    "    def __init__(self, balance=0, user_type=None):\n",
    "        super().__init__()\n",
    "        self[\"balance\"] = balance\n",
    "        self[\"transactions\"] = []\n",
    "        self.daily_spending = {}\n",
    "        self.user_type = user_type\n",
    "\n",
    "    def deduct_fare(self, amount, date=None):\n",
    "        if self.user_type == \"student\":\n",
    "            amount *= 0.8 \n",
    "        elif self.user_type == \"senior\":\n",
    "            amount *= 0.5 \n",
    "        \n",
    "        if date:\n",
    "            self.daily_spending[date] = self.daily_spending.get(date, 0) + amount\n",
    "            if self.daily_spending[date] > 100:\n",
    "                print(\"Daily fare cap reached. Ride is free!\")\n",
    "                return\n",
    "\n",
    "        if self[\"balance\"] >= amount:\n",
    "            self[\"balance\"] -= amount\n",
    "            self[\"transactions\"].append(f\"Deducted ₹{amount:.2f}\")\n",
    "            if len(self[\"transactions\"]) > 5:\n",
    "                self[\"transactions\"].pop(0)\n",
    "        else:\n",
    "            print(\"Insufficient balance.\")\n",
    "\n",
    "    def recharge(self, amount):\n",
    "        self[\"balance\"] += amount\n",
    "        self[\"transactions\"].append(f\"Recharged ₹{amount}\")\n",
    "        if len(self[\"transactions\"]) > 5:\n",
    "            self[\"transactions\"].pop(0)\n",
    "            \n",
    "card = MetroCard(balance=100)\n",
    "card.deduct_fare(30)  \n",
    "card.recharge(50)\n",
    "print(card[\"balance\"])  \n",
    "print(card[\"transactions\"])\n",
    "\n",
    "card.deduct_fare(50, \"2025-03-07\")\n",
    "card.deduct_fare(50, \"2025-03-07\")\n",
    "card.deduct_fare(20, \"2025-03-07\") \n",
    "student_card = MetroCard(balance=100, user_type=\"student\")\n",
    "student_card.deduct_fare(30)  \n",
    "student_card.recharge(30)\n",
    "print(student_card[\"balance\"])\n",
    "\n",
    "senior_card = MetroCard(balance=100, user_type=\"senior\")\n",
    "senior_card.deduct_fare(30)  "
   ]
  },
  {
   "cell_type": "code",
   "execution_count": null,
   "id": "7da67ddf-1449-4c46-9214-b1922d4723a7",
   "metadata": {},
   "outputs": [],
   "source": []
  }
 ],
 "metadata": {
  "kernelspec": {
   "display_name": "Python 3 (ipykernel)",
   "language": "python",
   "name": "python3"
  },
  "language_info": {
   "codemirror_mode": {
    "name": "ipython",
    "version": 3
   },
   "file_extension": ".py",
   "mimetype": "text/x-python",
   "name": "python",
   "nbconvert_exporter": "python",
   "pygments_lexer": "ipython3",
   "version": "3.12.7"
  }
 },
 "nbformat": 4,
 "nbformat_minor": 5
}
