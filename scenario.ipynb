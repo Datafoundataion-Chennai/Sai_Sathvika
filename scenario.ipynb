{
 "cells": [
  {
   "cell_type": "code",
   "execution_count": 5,
   "id": "64827431-6c8e-461e-ba9d-217b2c3a28c2",
   "metadata": {},
   "outputs": [
    {
     "ename": "AttributeError",
     "evalue": "'super' object has no attribute '_init_'",
     "output_type": "error",
     "traceback": [
      "\u001b[1;31m---------------------------------------------------------------------------\u001b[0m",
      "\u001b[1;31mAttributeError\u001b[0m                            Traceback (most recent call last)",
      "Cell \u001b[1;32mIn[5], line 37\u001b[0m\n\u001b[0;32m     34\u001b[0m         \u001b[38;5;28;01mif\u001b[39;00m \u001b[38;5;28mlen\u001b[39m(\u001b[38;5;28mself\u001b[39m[\u001b[38;5;124m\"\u001b[39m\u001b[38;5;124mtransactions\u001b[39m\u001b[38;5;124m\"\u001b[39m]) \u001b[38;5;241m>\u001b[39m \u001b[38;5;241m5\u001b[39m:\n\u001b[0;32m     35\u001b[0m             \u001b[38;5;28mself\u001b[39m[\u001b[38;5;124m\"\u001b[39m\u001b[38;5;124mtransactions\u001b[39m\u001b[38;5;124m\"\u001b[39m]\u001b[38;5;241m.\u001b[39mpop(\u001b[38;5;241m0\u001b[39m)\n\u001b[1;32m---> 37\u001b[0m card \u001b[38;5;241m=\u001b[39m MetroCard(balance\u001b[38;5;241m=\u001b[39m\u001b[38;5;241m100\u001b[39m)\n\u001b[0;32m     38\u001b[0m card\u001b[38;5;241m.\u001b[39mdeduct_fare(\u001b[38;5;241m30\u001b[39m)  \n\u001b[0;32m     39\u001b[0m card\u001b[38;5;241m.\u001b[39mrecharge(\u001b[38;5;241m50\u001b[39m)\n",
      "Cell \u001b[1;32mIn[5], line 5\u001b[0m, in \u001b[0;36mMetroCard.__init__\u001b[1;34m(self, balance, user_type)\u001b[0m\n\u001b[0;32m      4\u001b[0m \u001b[38;5;28;01mdef\u001b[39;00m \u001b[38;5;21m__init__\u001b[39m(\u001b[38;5;28mself\u001b[39m, balance\u001b[38;5;241m=\u001b[39m\u001b[38;5;241m0\u001b[39m, user_type\u001b[38;5;241m=\u001b[39m\u001b[38;5;28;01mNone\u001b[39;00m):\n\u001b[1;32m----> 5\u001b[0m     \u001b[38;5;28msuper\u001b[39m()\u001b[38;5;241m.\u001b[39m_init_()\n\u001b[0;32m      6\u001b[0m     \u001b[38;5;28mself\u001b[39m[\u001b[38;5;124m\"\u001b[39m\u001b[38;5;124mbalance\u001b[39m\u001b[38;5;124m\"\u001b[39m] \u001b[38;5;241m=\u001b[39m balance\n\u001b[0;32m      7\u001b[0m     \u001b[38;5;28mself\u001b[39m[\u001b[38;5;124m\"\u001b[39m\u001b[38;5;124mtransactions\u001b[39m\u001b[38;5;124m\"\u001b[39m] \u001b[38;5;241m=\u001b[39m []\n",
      "\u001b[1;31mAttributeError\u001b[0m: 'super' object has no attribute '_init_'"
     ]
    }
   ],
   "source": [
    "from collections import UserDict\n",
    "\n",
    "class MetroCard(UserDict):\n",
    "    def __init__(self, balance=0, user_type=None):\n",
    "        super()._init_()\n",
    "        self[\"balance\"] = balance\n",
    "        self[\"transactions\"] = []\n",
    "        self.daily_spending = {}\n",
    "        self.user_type = user_type\n",
    "\n",
    "    def deduct_fare(self, amount, date=None):\n",
    "        if self.user_type == \"student\":\n",
    "            amount *= 0.8  # 20% discount\n",
    "        elif self.user_type == \"senior\":\n",
    "            amount *= 0.5  # 50% discount\n",
    "        \n",
    "        if date:\n",
    "            self.daily_spending[date] = self.daily_spending.get(date, 0) + amount\n",
    "            if self.daily_spending[date] > 100:\n",
    "                print(\"Daily fare cap reached. Ride is free!\")\n",
    "                return\n",
    "\n",
    "        if self[\"balance\"] >= amount:\n",
    "            self[\"balance\"] -= amount\n",
    "            self[\"transactions\"].append(f\"Deducted ₹{amount:.2f}\")\n",
    "            if len(self[\"transactions\"]) > 5:\n",
    "                self[\"transactions\"].pop(0)\n",
    "        else:\n",
    "            print(\"Insufficient balance.\")\n",
    "\n",
    "    def recharge(self, amount):\n",
    "        self[\"balance\"] += amount\n",
    "        self[\"transactions\"].append(f\"Recharged ₹{amount}\")\n",
    "        if len(self[\"transactions\"]) > 5:\n",
    "            self[\"transactions\"].pop(0)\n",
    "            \n",
    "card = MetroCard(balance=100)\n",
    "card.deduct_fare(30)  \n",
    "card.recharge(50)\n",
    "print(card[\"balance\"])  # 120\n",
    "print(card[\"transactions\"])\n",
    "\n",
    "card.deduct_fare(50, \"2025-03-07\")\n",
    "card.deduct_fare(50, \"2025-03-07\")\n",
    "card.deduct_fare(20, \"2025-03-07\")  # Free due to daily cap\n",
    "\n",
    "student_card = MetroCard(balance=100, user_type=\"student\")\n",
    "student_card.deduct_fare(30)  # ₹24 deducted\n",
    "student_card.recharge(30)\n",
    "print(student_card[\"balance\"])\n",
    "\n",
    "senior_card = MetroCard(balance=100, user_type=\"senior\")\n",
    "senior_card.deduct_fare(30)  # ₹15 deducted"
   ]
  },
  {
   "cell_type": "code",
   "execution_count": null,
   "id": "7da67ddf-1449-4c46-9214-b1922d4723a7",
   "metadata": {},
   "outputs": [],
   "source": []
  }
 ],
 "metadata": {
  "kernelspec": {
   "display_name": "Python 3 (ipykernel)",
   "language": "python",
   "name": "python3"
  },
  "language_info": {
   "codemirror_mode": {
    "name": "ipython",
    "version": 3
   },
   "file_extension": ".py",
   "mimetype": "text/x-python",
   "name": "python",
   "nbconvert_exporter": "python",
   "pygments_lexer": "ipython3",
   "version": "3.12.7"
  }
 },
 "nbformat": 4,
 "nbformat_minor": 5
}
