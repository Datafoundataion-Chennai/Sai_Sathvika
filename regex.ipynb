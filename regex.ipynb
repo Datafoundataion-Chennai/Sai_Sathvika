{
 "cells": [
  {
   "cell_type": "code",
   "execution_count": null,
   "id": "8d99b884-0c01-465c-97fc-00a7755b723a",
   "metadata": {},
   "outputs": [
    {
     "name": "stdout",
     "output_type": "stream",
     "text": [
      "['support@example.com', 'john.doe123@company.org', 'email@com.', 'jane_doe@domain.co.uk.']\n"
     ]
    }
   ],
   "source": [
    "import re\n",
    "text = \"Contact us at support@example.com, john.doe123@company.org, or invalid-email@com. Also, try jane_doe@domain.co.uk.\"\n",
    "match = re.findall(r\"[A-Za-z0-9._]+@+[A-Za-z0-9.]+\",text)\n",
    "#print(match)"
   ]
  },
  {
   "cell_type": "code",
   "execution_count": null,
   "id": "1055518c-52a8-4277-a75b-73529398358b",
   "metadata": {},
   "outputs": [],
   "source": []
  }
 ],
 "metadata": {
  "kernelspec": {
   "display_name": "Python 3 (ipykernel)",
   "language": "python",
   "name": "python3"
  },
  "language_info": {
   "codemirror_mode": {
    "name": "ipython",
    "version": 3
   },
   "file_extension": ".py",
   "mimetype": "text/x-python",
   "name": "python",
   "nbconvert_exporter": "python",
   "pygments_lexer": "ipython3",
   "version": "3.12.7"
  }
 },
 "nbformat": 4,
 "nbformat_minor": 5
}
