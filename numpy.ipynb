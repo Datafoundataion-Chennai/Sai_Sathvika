{
 "cells": [
  {
   "cell_type": "code",
   "execution_count": 1,
   "id": "2eacb64d-93c3-4c8c-b212-d7aece79aa83",
   "metadata": {},
   "outputs": [
    {
     "name": "stdout",
     "output_type": "stream",
     "text": [
      "Requirement already satisfied: numpy in c:\\users\\k_v_s_sathvika\\anaconda3\\lib\\site-packages (1.26.4)\n"
     ]
    }
   ],
   "source": [
    "!pip install numpy"
   ]
  },
  {
   "cell_type": "code",
   "execution_count": 4,
   "id": "b3b7215d-e1fe-4582-aa09-0530e246a3b9",
   "metadata": {},
   "outputs": [
    {
     "name": "stdout",
     "output_type": "stream",
     "text": [
      "Average stock prices: [291.83333333 292.43333333 317.96666667 256.56666667 277.13333333]\n",
      "Highest price recorded: 497 at Day 8, Company 5\n",
      "Normalized prices:\n",
      "[[0.96111111 0.31842105 0.97179487 0.44041451 0.        ]\n",
      " [0.77222222 0.36315789 0.86153846 0.         0.66246851]\n",
      " [0.03055556 0.81842105 0.36666667 0.37046632 0.67002519]\n",
      " [0.21111111 0.73947368 0.26923077 0.73056995 0.08312343]\n",
      " [0.14722222 0.20789474 0.95641026 0.26683938 0.12846348]\n",
      " [0.48888889 0.29210526 0.39487179 0.74352332 0.56675063]\n",
      " [0.05       0.38947368 0.99487179 0.11658031 0.40302267]\n",
      " [0.43888889 0.35789474 0.38205128 0.25647668 1.        ]\n",
      " [0.01666667 1.         0.39230769 0.18134715 0.46347607]\n",
      " [0.53611111 0.08684211 0.17435897 0.95595855 0.62468514]\n",
      " [0.16388889 0.70526316 0.11538462 0.19948187 0.63476071]\n",
      " [0.49166667 0.67894737 0.         0.83678756 0.80856423]\n",
      " [0.43888889 0.57631579 0.96666667 0.06994819 0.49118388]\n",
      " [0.71944444 0.24736842 0.15128205 0.53108808 0.35012594]\n",
      " [0.4        0.65       0.91025641 0.69689119 0.69269521]\n",
      " [0.65277778 0.32368421 0.97948718 0.13989637 0.38287154]\n",
      " [0.13888889 0.38947368 0.34615385 0.0984456  0.42065491]\n",
      " [0.98055556 0.01578947 0.69487179 0.40673575 0.28211587]\n",
      " [0.48611111 0.94473684 0.28717949 0.00518135 0.96725441]\n",
      " [0.         0.60526316 0.76410256 0.73834197 0.45088161]\n",
      " [0.70833333 0.86052632 0.67435897 0.23316062 0.02770781]\n",
      " [0.71666667 0.         0.65897436 0.06735751 0.00755668]\n",
      " [0.82777778 0.55526316 0.79230769 0.92746114 0.35264484]\n",
      " [0.63333333 0.63947368 0.53846154 0.01036269 0.62720403]\n",
      " [0.1        0.22105263 0.56153846 0.48704663 0.23929471]\n",
      " [0.69444444 0.72631579 0.51282051 0.21502591 0.78589421]\n",
      " [0.15       0.71842105 1.         0.50518135 0.29471033]\n",
      " [0.22222222 0.23684211 0.52307692 0.29533679 0.18639798]\n",
      " [0.89166667 0.62105263 0.29487179 1.         0.07808564]\n",
      " [1.         0.42894737 0.15384615 0.40932642 0.70277078]]\n",
      "Risky Investment Days:\n",
      "Day 1: [100]\n",
      "Day 2: [103]\n",
      "Day 3: [134]\n",
      "Day 4: [199 133]\n",
      "Day 5: [176 185 151]\n",
      "Day 7: [141 148]\n",
      "Day 9: [129 173]\n",
      "Day 10: [139 169]\n",
      "Day 11: [182 146 180]\n",
      "Day 12: [101]\n",
      "Day 13: [130]\n",
      "Day 14: [160]\n",
      "Day 16: [157]\n",
      "Day 17: [173 141]\n",
      "Day 18: [112]\n",
      "Day 19: [105]\n",
      "Day 20: [123]\n",
      "Day 21: [193 111]\n",
      "Day 22: [106 129 103]\n",
      "Day 24: [107]\n",
      "Day 25: [159 190 195]\n",
      "Day 26: [186]\n",
      "Day 27: [177]\n",
      "Day 28: [196 174]\n",
      "Day 29: [131]\n",
      "Day 30: [161]\n"
     ]
    }
   ],
   "source": [
    "import numpy as np\n",
    "stock_prices = np.random.randint(100, 501, size=(30, 5))\n",
    "average_prices = stock_prices.mean(axis=0)\n",
    "print(f\"Average stock prices: {average_prices}\")\n",
    "max_price = stock_prices.max() \n",
    "max_price_indices = np.where(stock_prices == max_price)\n",
    "max_price_day = max_price_indices[0][0] + 1\n",
    "max_price_company = max_price_indices[1][0] + 1  \n",
    "print(f\"Highest price recorded: {max_price} at Day {max_price_day}, Company {max_price_company}\")\n",
    "min_prices = stock_prices.min(axis=0)\n",
    "max_prices = stock_prices.max(axis=0)\n",
    "normalized_prices = (stock_prices - min_prices) / (max_prices - min_prices)\n",
    "print(\"Normalized prices:\")\n",
    "print(normalized_prices)\n",
    "print(\"Risky Investment Days:\")\n",
    "for day in range(stock_prices.shape[0]):\n",
    "    risky_stocks = stock_prices[day] < 200 \n",
    "    if np.any(risky_stocks):\n",
    "        print(f\"Day {day + 1}: {stock_prices[day][risky_stocks]}\")\n",
    "\n"
   ]
  },
  {
   "cell_type": "code",
   "execution_count": 4,
   "id": "9fff6815-b223-44dd-8654-3d69deecc660",
   "metadata": {},
   "outputs": [
    {
     "name": "stdout",
     "output_type": "stream",
     "text": [
      "Total resources needed (tons): Oxygen: 128, Water: 252, Food: 206\n",
      "Highest consumption in a month: Water (50 tons in month 3)\n",
      "Standard deviation of consumption: Oxygen: 4.3, Water: 4.4, Food: 3.2\n",
      "Transposed matrix:\n",
      "[[15 20 25 18 22 28]\n",
      " [40 42 38 50 37 45]\n",
      " [32 35 30 40 36 33]]\n"
     ]
    }
   ],
   "source": [
    "import numpy as np\n",
    "resources = np.array([\n",
    "    [15, 40, 32],  \n",
    "    [20, 42, 35],  \n",
    "    [25, 38, 30],  \n",
    "    [18, 50, 40],\n",
    "    [22, 37, 36],  \n",
    "    [28, 45, 33]  \n",
    "])\n",
    "total_resources = resources.sum(axis=0) \n",
    "total_oxygen, total_water, total_food = total_resources\n",
    "print(f\"Total resources needed (tons): Oxygen: {total_oxygen}, Water: {total_water}, Food: {total_food}\")\n",
    "monthly_max_idx = np.argmax(resources, axis=1) \n",
    "resources_names = ['Oxygen', 'Water', 'Food']\n",
    "monthly_max_resources = [resources_names[idx] for idx in monthly_max_idx]\n",
    "monthly_max_values = resources.max(axis=1)\n",
    "highest_month = np.argmax(monthly_max_values)\n",
    "highest_resource = monthly_max_resources[highest_month]\n",
    "highest_value = monthly_max_values[highest_month]\n",
    "print(f\"Highest consumption in a month: {highest_resource} ({highest_value} tons in month {highest_month})\")\n",
    "std_devs = resources.std(axis=0)\n",
    "std_oxygen, std_water, std_food = std_devs\n",
    "print(f\"Standard deviation of consumption: Oxygen: {std_oxygen:.1f}, Water: {std_water:.1f}, Food: {std_food:.1f}\")\n",
    "transposed_resources = resources.T\n",
    "print(\"Transposed matrix:\")\n",
    "print(transposed_resources)\n"
   ]
  },
  {
   "cell_type": "code",
   "execution_count": 5,
   "id": "5022e571-6305-4860-813b-496a506e5f50",
   "metadata": {},
   "outputs": [
    {
     "name": "stdout",
     "output_type": "stream",
     "text": [
      "Average points per game:\n",
      "[22.8 22.  32.2 18.1 30.1]\n",
      "Best-performing player: Player 3 (Total: 322 points)\n",
      "Worst-performing player: Player 4 (Total: 181 points)\n",
      "Player 1: Games [8]\n",
      "Player 2: Games []\n",
      "Player 3: Games [ 1  3  4  6  8 10]\n",
      "Player 4: Games []\n",
      "Player 5: Games [ 7  8  9 10]\n"
     ]
    }
   ],
   "source": [
    "import numpy as np\n",
    "points = np.array([\n",
    "    [10, 25, 30, 22, 12, 18, 26, 32, 24, 29], \n",
    "    [20, 15, 12, 28, 24, 26, 30, 18, 22, 25],  \n",
    "    [35, 30, 32, 40, 28, 34, 29, 31, 26, 37], \n",
    "    [12, 18, 20, 15, 22, 14, 19, 21, 23, 17], \n",
    "    [28, 26, 27, 25, 30, 29, 35, 32, 31, 38] \n",
    "])\n",
    "average_points = points.mean(axis=1) \n",
    "print(\"Average points per game:\")\n",
    "print(average_points)\n",
    "total_points = points.sum(axis=1)  \n",
    "best_player_idx = np.argmax(total_points) \n",
    "worst_player_idx = np.argmin(total_points)\n",
    "print(f\"Best-performing player: Player {best_player_idx + 1} (Total: {total_points[best_player_idx]} points)\")\n",
    "print(f\"Worst-performing player: Player {worst_player_idx + 1} (Total: {total_points[worst_player_idx]} points)\")\n",
    "mask = points > 30 \n",
    "for i in range(points.shape[0]): \n",
    "    games_above_30 = np.where(mask[i])[0] + 1 \n",
    "    print(f\"Player {i+1}: Games {games_above_30}\")\n"
   ]
  },
  {
   "cell_type": "code",
   "execution_count": null,
   "id": "f10f8bbc-b969-4f35-b1e6-d7c9252f7f07",
   "metadata": {},
   "outputs": [],
   "source": []
  }
 ],
 "metadata": {
  "kernelspec": {
   "display_name": "Python 3 (ipykernel)",
   "language": "python",
   "name": "python3"
  },
  "language_info": {
   "codemirror_mode": {
    "name": "ipython",
    "version": 3
   },
   "file_extension": ".py",
   "mimetype": "text/x-python",
   "name": "python",
   "nbconvert_exporter": "python",
   "pygments_lexer": "ipython3",
   "version": "3.12.7"
  }
 },
 "nbformat": 4,
 "nbformat_minor": 5
}
